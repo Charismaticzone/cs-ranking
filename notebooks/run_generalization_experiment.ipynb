{
 "cells": [
  {
   "cell_type": "code",
   "execution_count": 1,
   "metadata": {},
   "outputs": [
    {
     "name": "stderr",
     "output_type": "stream",
     "text": [
      "/home/prithag/anaconda3/lib/python3.6/site-packages/h5py/__init__.py:34: FutureWarning: Conversion of the second argument of issubdtype from `float` to `np.floating` is deprecated. In future, it will be treated as `np.float64 == np.dtype(float).type`.\n",
      "  from ._conv import register_converters as _register_converters\n",
      "Using TensorFlow backend.\n",
      "/home/prithag/anaconda3/lib/python3.6/importlib/_bootstrap.py:219: RuntimeWarning: compiletime version 3.5 of module 'tensorflow.python.framework.fast_tensor_util' does not match runtime version 3.6\n",
      "  return f(*args, **kwds)\n"
     ]
    }
   ],
   "source": [
    "import inspect\n",
    "import os\n",
    "\n",
    "import numpy as np\n",
    "import pandas as pd\n",
    "from docopt import docopt\n",
    "from csrank.fate_ranking import FATEObjectRanker\n",
    "from csrank.objectranking.feta_ranker import FETANetwork\n",
    "from csrank.callbacks import DebugOutput\n",
    "from csrank.dataset_reader import SyntheticDatasetGenerator\n",
    "from csrank.metrics import zero_one_rank_loss_for_scores\n",
    "from csrank.util import rename_file_if_exist, configure_logging_numpy_keras, get_tensor_value"
   ]
  },
  {
   "cell_type": "markdown",
   "metadata": {},
   "source": [
    "Defining the Constants"
   ]
  },
  {
   "cell_type": "code",
   "execution_count": 2,
   "metadata": {},
   "outputs": [],
   "source": [
    "MODEL = \"aModel\"\n",
    "ERROR_OUTPUT_STRING = 'Out of sample error {} : {} for n_objects {}'"
   ]
  },
  {
   "cell_type": "markdown",
   "metadata": {},
   "source": [
    "Generate the hyper_volume sythentic dataset for defined number of objects"
   ]
  },
  {
   "cell_type": "code",
   "execution_count": 3,
   "metadata": {
    "collapsed": true
   },
   "outputs": [],
   "source": [
    "def generate_dataset(n_objects=5, random_state=42):\n",
    "    parameters = {\"n_features\": 2, \"n_objects\": n_objects, \"n_train_instances\": 10000, \"n_test_instances\": 200000,\n",
    "                 \"dataset_type\": \"hyper_volume\",\"random_state\":random_state}\n",
    "    generator = SyntheticDatasetGenerator(**parameters)\n",
    "    return generator.get_single_train_test_split()"
   ]
  },
  {
   "cell_type": "markdown",
   "metadata": {},
   "source": [
    "Fit the given ranker and predict on rankings with different sizes and check the zero one rank loss for them"
   ]
  },
  {
   "cell_type": "code",
   "execution_count": 4,
   "metadata": {
    "collapsed": true
   },
   "outputs": [],
   "source": [
    "def get_evaluation_result(gor, X_train, Y_train, epochs):\n",
    "    gor.fit(X_train, Y_train, log_callbacks=[DebugOutput()], verbose=False, epochs=epochs)\n",
    "    eval_results = {}\n",
    "    for n_objects in np.arange(3, 25):\n",
    "        _, _, X_test, Y_test = generate_dataset(n_objects=n_objects, random_state=seed + n_objects * 5)\n",
    "        y_pred_scores = gor.predict_scores(X_test, batch_size=X_test.shape[0])\n",
    "        metric_loss = get_tensor_value(zero_one_rank_loss_for_scores(Y_test, y_pred_scores))\n",
    "        logger.info(ERROR_OUTPUT_STRING.format(\"zero_one_rank_loss\", str(np.mean(metric_loss)), n_objects))\n",
    "        eval_results[n_objects] = metric_loss\n",
    "    return eval_results"
   ]
  },
  {
   "cell_type": "markdown",
   "metadata": {},
   "source": [
    "Initialize the log file path and the dataframe path."
   ]
  },
  {
   "cell_type": "code",
   "execution_count": 5,
   "metadata": {},
   "outputs": [],
   "source": [
    "n_objects = 5\n",
    "dirname = os.path.dirname(os.path.abspath(inspect.getfile(inspect.currentframe())))\n",
    "log_path = os.path.join(dirname, \"logs\", \"generalizing_mean_{}.log\".format(n_objects))\n",
    "df_path = os.path.join(dirname, \"logs\", \"generalizing_mean_{}.csv\".format(n_objects))\n",
    "random_state = np.random.RandomState(seed=42)\n",
    "seed = random_state.randint(2 ** 32)"
   ]
  },
  {
   "cell_type": "markdown",
   "metadata": {},
   "source": [
    "Initialize tensorflow and keras with the seed and initialize the log file path"
   ]
  },
  {
   "cell_type": "code",
   "execution_count": 7,
   "metadata": {
    "collapsed": true
   },
   "outputs": [],
   "source": [
    "rows_list = []\n",
    "logger = configure_logging_numpy_keras(seed=seed, log_path=log_path)\n",
    "\n",
    "X_train, Y_train, _, _ = generate_dataset(n_objects=n_objects, random_state=seed)\n",
    "n_instances, n_objects, n_features = X_train.shape\n",
    "\n",
    "epochs = 1200\n",
    "params = {\"n_objects\": n_objects, \"n_features\": n_features, \"n_object_features\": n_features, \n",
    "          \"use_early_stopping\": True, \"metrics\":[zero_one_rank_loss_for_scores]}"
   ]
  },
  {
   "cell_type": "markdown",
   "metadata": {},
   "source": [
    "Evaluate the FETANetwork with best parameters and check the generalization"
   ]
  },
  {
   "cell_type": "code",
   "execution_count": null,
   "metadata": {},
   "outputs": [],
   "source": [
    "logger.info(\"############################# With Best Parameters ##############################\")\n",
    "best_point = [1, 57, 2.8117037888574489e-05, 0.00034996670051906946, 947, 479]\n",
    "gor = FETANetwork(**params)\n",
    "gor.set_tunable_parameter_ranges({})\n",
    "gor.set_tunable_parameters(best_point)\n",
    "result = get_evaluation_result(gor, X_train, Y_train, epochs)\n",
    "result[MODEL] = \"FETARanker\"\n",
    "rows_list.append(result)"
   ]
  },
  {
   "cell_type": "markdown",
   "metadata": {},
   "source": [
    "Evaluate the FATEObjectRanker with best parameters and check the generalization"
   ]
  },
  {
   "cell_type": "code",
   "execution_count": null,
   "metadata": {
    "collapsed": true
   },
   "outputs": [],
   "source": [
    "from csrank.losses import smooth_rank_loss\n",
    "logger.info(\"############################# With Best Parameters 2 ##############################\")\n",
    "best_point = [747, 286, 8.67836898141875e-05, 20, 221, 15, 77, 4.7182862225825202e-06]\n",
    "params[\"loss_function\"] = smooth_rank_loss\n",
    "gor = FATEObjectRanker(**params)\n",
    "gor.set_tunable_parameter_ranges({})\n",
    "gor.set_tunable_parameters(best_point)\n",
    "result = get_evaluation_result(gor, X_train, Y_train, epochs)\n",
    "result[MODEL] = \"FATERanker\"\n",
    "rows_list.append(result)"
   ]
  },
  {
   "cell_type": "code",
   "execution_count": null,
   "metadata": {},
   "outputs": [],
   "source": [
    "df = pd.DataFrame(rows_list)\n",
    "df.to_csv(df_path)\n",
    "df= pd.read_csv(df_path)\n",
    "df"
   ]
  },
  {
   "cell_type": "code",
   "execution_count": 9,
   "metadata": {
    "collapsed": true
   },
   "outputs": [],
   "source": [
    "cols = list(df.columns.values)\n",
    "cols = cols[-7:] + cols[:-7]\n",
    "MODEL = \"aModel\"\n",
    "for x in ['Unnamed: 0', 'aModel']:\n",
    "    if x in cols:\n",
    "        cols.remove(x)\n",
    "        cols.insert(0, x)\n",
    "df = df[cols]\n",
    "#del df['Unnamed: 0']\n",
    "df = df.set_index(MODEL).T"
   ]
  },
  {
   "cell_type": "code",
   "execution_count": 10,
   "metadata": {},
   "outputs": [],
   "source": [
    "df.to_csv(df_path)"
   ]
  },
  {
   "cell_type": "code",
   "execution_count": 11,
   "metadata": {},
   "outputs": [
    {
     "data": {
      "text/html": [
       "<div>\n",
       "<table border=\"1\" class=\"dataframe\">\n",
       "  <thead>\n",
       "    <tr style=\"text-align: right;\">\n",
       "      <th>aModel</th>\n",
       "      <th>2LayersBestParams</th>\n",
       "    </tr>\n",
       "  </thead>\n",
       "  <tbody>\n",
       "    <tr>\n",
       "      <th>Unnamed: 0</th>\n",
       "      <td>0.000000</td>\n",
       "    </tr>\n",
       "    <tr>\n",
       "      <th>n_test_objects 3</th>\n",
       "      <td>0.222848</td>\n",
       "    </tr>\n",
       "    <tr>\n",
       "      <th>n_test_objects 4</th>\n",
       "      <td>0.242942</td>\n",
       "    </tr>\n",
       "    <tr>\n",
       "      <th>n_test_objects 5</th>\n",
       "      <td>0.232927</td>\n",
       "    </tr>\n",
       "    <tr>\n",
       "      <th>n_test_objects 6</th>\n",
       "      <td>0.228774</td>\n",
       "    </tr>\n",
       "    <tr>\n",
       "      <th>n_test_objects 7</th>\n",
       "      <td>0.223190</td>\n",
       "    </tr>\n",
       "    <tr>\n",
       "      <th>n_test_objects 8</th>\n",
       "      <td>0.218799</td>\n",
       "    </tr>\n",
       "    <tr>\n",
       "      <th>n_test_objects 9</th>\n",
       "      <td>0.213042</td>\n",
       "    </tr>\n",
       "    <tr>\n",
       "      <th>n_test_objects 10</th>\n",
       "      <td>0.209083</td>\n",
       "    </tr>\n",
       "    <tr>\n",
       "      <th>n_test_objects 11</th>\n",
       "      <td>0.204764</td>\n",
       "    </tr>\n",
       "    <tr>\n",
       "      <th>n_test_objects 12</th>\n",
       "      <td>0.200741</td>\n",
       "    </tr>\n",
       "    <tr>\n",
       "      <th>n_test_objects 13</th>\n",
       "      <td>0.197100</td>\n",
       "    </tr>\n",
       "    <tr>\n",
       "      <th>n_test_objects 14</th>\n",
       "      <td>0.193516</td>\n",
       "    </tr>\n",
       "    <tr>\n",
       "      <th>n_test_objects 15</th>\n",
       "      <td>0.189715</td>\n",
       "    </tr>\n",
       "    <tr>\n",
       "      <th>n_test_objects 16</th>\n",
       "      <td>0.186330</td>\n",
       "    </tr>\n",
       "    <tr>\n",
       "      <th>n_test_objects 17</th>\n",
       "      <td>0.183974</td>\n",
       "    </tr>\n",
       "    <tr>\n",
       "      <th>n_test_objects 18</th>\n",
       "      <td>0.180570</td>\n",
       "    </tr>\n",
       "    <tr>\n",
       "      <th>n_test_objects 19</th>\n",
       "      <td>0.178411</td>\n",
       "    </tr>\n",
       "    <tr>\n",
       "      <th>n_test_objects 20</th>\n",
       "      <td>0.175129</td>\n",
       "    </tr>\n",
       "    <tr>\n",
       "      <th>n_test_objects 21</th>\n",
       "      <td>0.172867</td>\n",
       "    </tr>\n",
       "    <tr>\n",
       "      <th>n_test_objects 22</th>\n",
       "      <td>0.170659</td>\n",
       "    </tr>\n",
       "    <tr>\n",
       "      <th>n_test_objects 23</th>\n",
       "      <td>0.167750</td>\n",
       "    </tr>\n",
       "    <tr>\n",
       "      <th>n_test_objects 24</th>\n",
       "      <td>0.165732</td>\n",
       "    </tr>\n",
       "  </tbody>\n",
       "</table>\n",
       "</div>"
      ],
      "text/plain": [
       "aModel             2LayersBestParams\n",
       "Unnamed: 0                  0.000000\n",
       "n_test_objects 3            0.222848\n",
       "n_test_objects 4            0.242942\n",
       "n_test_objects 5            0.232927\n",
       "n_test_objects 6            0.228774\n",
       "n_test_objects 7            0.223190\n",
       "n_test_objects 8            0.218799\n",
       "n_test_objects 9            0.213042\n",
       "n_test_objects 10           0.209083\n",
       "n_test_objects 11           0.204764\n",
       "n_test_objects 12           0.200741\n",
       "n_test_objects 13           0.197100\n",
       "n_test_objects 14           0.193516\n",
       "n_test_objects 15           0.189715\n",
       "n_test_objects 16           0.186330\n",
       "n_test_objects 17           0.183974\n",
       "n_test_objects 18           0.180570\n",
       "n_test_objects 19           0.178411\n",
       "n_test_objects 20           0.175129\n",
       "n_test_objects 21           0.172867\n",
       "n_test_objects 22           0.170659\n",
       "n_test_objects 23           0.167750\n",
       "n_test_objects 24           0.165732"
      ]
     },
     "execution_count": 11,
     "metadata": {},
     "output_type": "execute_result"
    }
   ],
   "source": [
    "df"
   ]
  },
  {
   "cell_type": "code",
   "execution_count": null,
   "metadata": {
    "collapsed": true
   },
   "outputs": [],
   "source": []
  }
 ],
 "metadata": {
  "kernelspec": {
   "display_name": "Python 3",
   "language": "python",
   "name": "python3"
  },
  "language_info": {
   "codemirror_mode": {
    "name": "ipython",
    "version": 3
   },
   "file_extension": ".py",
   "mimetype": "text/x-python",
   "name": "python",
   "nbconvert_exporter": "python",
   "pygments_lexer": "ipython3",
   "version": "3.6.3"
  }
 },
 "nbformat": 4,
 "nbformat_minor": 2
}
