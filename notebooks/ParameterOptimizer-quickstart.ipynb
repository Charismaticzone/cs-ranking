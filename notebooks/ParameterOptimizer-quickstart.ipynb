{
 "cells": [
  {
   "cell_type": "code",
   "execution_count": 15,
   "metadata": {},
   "outputs": [],
   "source": [
    "from csrank.dataset_reader import SyntheticDatasetGenerator\n",
    "from sklearn.utils import check_random_state\n",
    "from sklearn.model_selection import ShuffleSplit\n",
    "from csrank.fate_ranking import FATEObjectRanker\n",
    "from csrank.callbacks import DebugOutput\n",
    "from csrank.tuning import ParameterOptimizer\n",
    "import logging\n",
    "from csrank.util import configure_logging_numpy_keras\n",
    "import numpy as np\n",
    "from keras import backend as K\n",
    "import os"
   ]
  },
  {
   "cell_type": "markdown",
   "metadata": {},
   "source": [
    "Function to convert the duration in string to the time required in microseconds"
   ]
  },
  {
   "cell_type": "code",
   "execution_count": 16,
   "metadata": {
    "collapsed": true
   },
   "outputs": [],
   "source": [
    "import re\n",
    "def get_duration_microsecond(duration):\n",
    "    time = int(re.findall(r'\\d+', duration)[0])\n",
    "    d = duration.split(str(time))[1].upper()\n",
    "    options = {\"D\": 24 * 60 * 60 * 1e6, \"H\": 60 * 60 * 1e6, \"M\": 60 * 1e6}\n",
    "    return options[d] * time"
   ]
  },
  {
   "cell_type": "markdown",
   "metadata": {},
   "source": [
    "Configuring the keras and tensorflow. Defining the parameters for dataset reader. Defining the splits for the optimizer."
   ]
  },
  {
   "cell_type": "code",
   "execution_count": 17,
   "metadata": {},
   "outputs": [],
   "source": [
    "logger = configure_logging_numpy_keras(log_path=os.path.join(os.getcwd(), 'logs' ,\"test_models.log\"), name='Experiment')\n",
    "n_features = 2\n",
    "n_instances = 10000\n",
    "n_objects = 5\n",
    "random_state = check_random_state(42)\n",
    "skf = ShuffleSplit(n_splits=2, test_size=0.5, random_state=random_state)\n",
    "epochs = 100"
   ]
  },
  {
   "cell_type": "markdown",
   "metadata": {},
   "source": [
    "Defining Ranker init and fitting parameters.\n",
    "Defining the Parameter optimizer init and fitting parameters"
   ]
  },
  {
   "cell_type": "code",
   "execution_count": 18,
   "metadata": {
    "collapsed": true
   },
   "outputs": [],
   "source": [
    "ranker_params = {'n_objects': n_objects,'n_features':n_features, 'n_object_features':n_features}\n",
    "fit_params = {'epochs': epochs,'log_callbacks':[DebugOutput()]}\n",
    "medoids_params = {'dataset_type':\"medoid\",'n_test_instances': n_instances, 'n_train_instances': n_instances,'n_features': n_features, 'n_objects': n_objects,\n",
    "                      'random_state': random_state}\n",
    "optimizer_fit_params = {'n_iter': 1, 'cv_iter': skf, 'optimizer': None, \"total_duration\":get_duration_microsecond(\"10h\")}\n",
    "\n",
    "optimizer_params = {'ranker_class': FATEObjectRanker, 'fit_params': fit_params, 'ranker_params': ranker_params,\n",
    "                        'random_state': random_state, \"optimizer_path\":os.path.join(os.getcwd(), 'logs',\"optimizer\")}\n"
   ]
  },
  {
   "cell_type": "markdown",
   "metadata": {},
   "source": [
    "Generating the dataset"
   ]
  },
  {
   "cell_type": "code",
   "execution_count": 19,
   "metadata": {
    "collapsed": true
   },
   "outputs": [],
   "source": [
    "dr = SyntheticDatasetGenerator(**medoids_params)\n",
    "X,Y,X_test,Y_test = dr.get_single_train_test_split()"
   ]
  },
  {
   "cell_type": "markdown",
   "metadata": {},
   "source": [
    "Fitting the optimizer"
   ]
  },
  {
   "cell_type": "code",
   "execution_count": null,
   "metadata": {
    "collapsed": true
   },
   "outputs": [],
   "source": [
    "optimizer_model = ParameterOptimizer(**optimizer_params)\n",
    "optimizer_model.fit(X, Y, **optimizer_fit_params)"
   ]
  },
  {
   "cell_type": "markdown",
   "metadata": {},
   "source": [
    "Evaluate the Ranker with best parameters found by the optimizer on the test dataset"
   ]
  },
  {
   "cell_type": "code",
   "execution_count": 14,
   "metadata": {},
   "outputs": [
    {
     "ename": "NameError",
     "evalue": "name 'np' is not defined",
     "output_type": "error",
     "traceback": [
      "\u001b[0;31m---------------------------------------------------------------------------\u001b[0m",
      "\u001b[0;31mNameError\u001b[0m                                 Traceback (most recent call last)",
      "\u001b[0;32m<ipython-input-14-ab7880aceaf4>\u001b[0m in \u001b[0;36m<module>\u001b[0;34m()\u001b[0m\n\u001b[1;32m      2\u001b[0m     optimizer_model.model = optimizer_model._ranker_class(random_state=optimizer_model.random_state,\n\u001b[1;32m      3\u001b[0m                                                           **optimizer_model._ranker_params)\n\u001b[0;32m----> 4\u001b[0;31m     \u001b[0mbest_point\u001b[0m \u001b[0;34m=\u001b[0m \u001b[0moptimizer_model\u001b[0m\u001b[0;34m.\u001b[0m\u001b[0moptimizer\u001b[0m\u001b[0;34m.\u001b[0m\u001b[0mXi\u001b[0m\u001b[0;34m[\u001b[0m\u001b[0mnp\u001b[0m\u001b[0;34m.\u001b[0m\u001b[0margmin\u001b[0m\u001b[0;34m(\u001b[0m\u001b[0moptimizer_model\u001b[0m\u001b[0;34m.\u001b[0m\u001b[0moptimizer\u001b[0m\u001b[0;34m.\u001b[0m\u001b[0myi\u001b[0m\u001b[0;34m)\u001b[0m\u001b[0;34m]\u001b[0m\u001b[0;34m\u001b[0m\u001b[0m\n\u001b[0m\u001b[1;32m      5\u001b[0m     \u001b[0moptimizer_model\u001b[0m\u001b[0;34m.\u001b[0m\u001b[0mmodel\u001b[0m\u001b[0;34m.\u001b[0m\u001b[0mset_tunable_parameters\u001b[0m\u001b[0;34m(\u001b[0m\u001b[0mbest_point\u001b[0m\u001b[0;34m)\u001b[0m\u001b[0;34m\u001b[0m\u001b[0m\n\u001b[1;32m      6\u001b[0m     \u001b[0mlogger\u001b[0m\u001b[0;34m.\u001b[0m\u001b[0minfo\u001b[0m\u001b[0;34m(\u001b[0m\u001b[0moptimizer_model\u001b[0m\u001b[0;34m.\u001b[0m\u001b[0mmodel\u001b[0m\u001b[0;34m.\u001b[0m\u001b[0m__dict__\u001b[0m\u001b[0;34m)\u001b[0m\u001b[0;34m\u001b[0m\u001b[0m\n",
      "\u001b[0;31mNameError\u001b[0m: name 'np' is not defined"
     ]
    }
   ],
   "source": [
    "if optimizer_model.model is None:\n",
    "    optimizer_model.model = optimizer_model._ranker_class(random_state=optimizer_model.random_state,\n",
    "                                                          **optimizer_model._ranker_params)\n",
    "    best_point = optimizer_model.optimizer.Xi[np.argmin(optimizer_model.optimizer.yi)]\n",
    "    optimizer_model.model.set_tunable_parameters(best_point)\n",
    "    logger.info(optimizer_model.model.__dict__)\n",
    "    optimizer_model.model.fit(X_train, Y_train, **optimizer_model._fit_params)\n",
    "predicted = optimizer_model.predict_scores(test)"
   ]
  },
  {
   "cell_type": "code",
   "execution_count": null,
   "metadata": {
    "collapsed": true
   },
   "outputs": [],
   "source": []
  }
 ],
 "metadata": {
  "anaconda-cloud": {},
  "kernelspec": {
   "display_name": "Python 3",
   "language": "python",
   "name": "python3"
  },
  "language_info": {
   "codemirror_mode": {
    "name": "ipython",
    "version": 3
   },
   "file_extension": ".py",
   "mimetype": "text/x-python",
   "name": "python",
   "nbconvert_exporter": "python",
   "pygments_lexer": "ipython3",
   "version": "3.6.3"
  }
 },
 "nbformat": 4,
 "nbformat_minor": 2
}
