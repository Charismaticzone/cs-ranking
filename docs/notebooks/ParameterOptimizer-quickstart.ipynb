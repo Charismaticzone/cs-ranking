{
 "cells": [
  {
   "cell_type": "markdown",
   "metadata": {},
   "source": [
    "# Parameter Optimizer "
   ]
  },
  {
   "cell_type": "code",
   "execution_count": 1,
   "metadata": {},
   "outputs": [
    {
     "name": "stderr",
     "output_type": "stream",
     "text": [
      "Using TensorFlow backend.\n"
     ]
    }
   ],
   "source": [
    "import warnings\n",
    "warnings.filterwarnings('ignore')\n",
    "from csrank.dataset_reader import SyntheticDatasetGenerator\n",
    "from sklearn.utils import check_random_state\n",
    "from sklearn.model_selection import ShuffleSplit\n",
    "from csrank.callbacks import DebugOutput, LRScheduler\n",
    "from csrank.tuning import ParameterOptimizer\n",
    "import logging\n",
    "from csrank.util import configure_logging_numpy_keras, get_duration_seconds\n",
    "import numpy as np\n",
    "from keras import backend as K\n",
    "import os\n",
    "from skopt import load\n",
    "from csrank.objectranking import RankNet\n",
    "import logging"
   ]
  },
  {
   "cell_type": "markdown",
   "metadata": {},
   "source": [
    "## Defining constants for the experiments"
   ]
  },
  {
   "cell_type": "markdown",
   "metadata": {},
   "source": [
    "Configuring the keras and tensorflow. Defining the parameters for dataset reader. Defining the splits for the optimizer."
   ]
  },
  {
   "cell_type": "code",
   "execution_count": 2,
   "metadata": {
    "collapsed": true
   },
   "outputs": [],
   "source": [
    "configure_logging_numpy_keras(log_path=os.path.join(os.getcwd(), 'logs' ,\"test_models.log\"))\n",
    "logger = logging.getLogger('Experiment')\n",
    "n_features = 2\n",
    "n_instances = 10000\n",
    "n_objects = 5\n",
    "random_state = check_random_state(42)\n",
    "skf = ShuffleSplit(n_splits=2, test_size=0.5, random_state=random_state)\n",
    "epochs = 5\n",
    "optimizer_path = os.path.join(os.getcwd(), 'logs',\"optimizer\")\n",
    "n_iter = 4"
   ]
  },
  {
   "cell_type": "code",
   "execution_count": 3,
   "metadata": {
    "collapsed": true
   },
   "outputs": [],
   "source": [
    "import re\n",
    "def get_duration_microsecond(duration):\n",
    "    time = int(re.findall(r'\\d+', duration)[0])\n",
    "    d = duration.split(str(time))[1].upper()\n",
    "    options = {\"D\": 24 * 60 * 60 * 1e6, \"H\": 60 * 60 * 1e6, \"M\": 60 * 1e6}\n",
    "    return options[d] * time"
   ]
  },
  {
   "cell_type": "markdown",
   "metadata": {},
   "source": [
    "Defining Ranker initializing and fitting parameters."
   ]
  },
  {
   "cell_type": "code",
   "execution_count": 4,
   "metadata": {
    "collapsed": true
   },
   "outputs": [],
   "source": [
    "ranker_params = {'n_objects': n_objects,\n",
    "                 'n_features':n_features, \n",
    "                 'n_object_features':n_features}\n",
    "ranker = RankNet(**ranker_params)\n",
    "debugOutput = DebugOutput()\n",
    "lrScheduler = LRScheduler()\n",
    "\n",
    "fit_params = {'epochs': epochs,\n",
    "              'callbacks':[debugOutput, lrScheduler]}"
   ]
  },
  {
   "cell_type": "markdown",
   "metadata": {},
   "source": [
    "Defining the Parameter optimizer initializing and fitting parameters"
   ]
  },
  {
   "cell_type": "code",
   "execution_count": 5,
   "metadata": {
    "collapsed": true
   },
   "outputs": [],
   "source": [
    "optimizer_fit_params = {'n_iter': n_iter, \n",
    "                        'cv_iter': skf, \n",
    "                        \"total_duration\":get_duration_seconds(\"10h\")}\n",
    "\n",
    "ranker_tunables = dict(n_hidden=(2,20), n_units=(20,40), \n",
    "                        learning_rate=(1e-5, 1e-2, 'log-uniform'),\n",
    "                        reg_strength=(1e-10, 1e-1, 'log-uniform'),\n",
    "                        batch_size=(64, 1024))\n",
    "\n",
    "lrScheduler_tunables = dict(epochs_drop=(300,600), drop=(1e-2, 1e-1, 'log-uniform'))\n",
    "\n",
    "tunable_parameter_ranges = {ranker: ranker_tunables, lrScheduler: lrScheduler_tunables}\n",
    "\n",
    "optimizer_params = {'learner': ranker,\n",
    "                    'optimizer_path':optimizer_path,\n",
    "                    'tunable_parameter_ranges': tunable_parameter_ranges,\n",
    "                    'fit_params': fit_params,\n",
    "                    'random_state': random_state}"
   ]
  },
  {
   "cell_type": "markdown",
   "metadata": {},
   "source": [
    "Generating the medoid test and train dataset with defined parameters"
   ]
  },
  {
   "cell_type": "code",
   "execution_count": 6,
   "metadata": {
    "collapsed": true
   },
   "outputs": [],
   "source": [
    "medoids_params = {'dataset_type': \"medoid\",\n",
    "                  'n_test_instances': n_instances,\n",
    "                  'n_train_instances': n_instances,\n",
    "                  'n_features': n_features,\n",
    "                  'n_objects': n_objects,\n",
    "                  'random_state': random_state}\n",
    "dr = SyntheticDatasetGenerator(**medoids_params)\n",
    "X, Y, X_test, Y_test = dr.get_single_train_test_split()"
   ]
  },
  {
   "cell_type": "markdown",
   "metadata": {},
   "source": [
    "Fitting the optimizer"
   ]
  },
  {
   "cell_type": "code",
   "execution_count": 7,
   "metadata": {
    "collapsed": true
   },
   "outputs": [],
   "source": [
    "optimizer_model = ParameterOptimizer(**optimizer_params)\n",
    "optimizer_model.fit(X, Y, **optimizer_fit_params)"
   ]
  },
  {
   "cell_type": "markdown",
   "metadata": {},
   "source": [
    "Evaluate the Ranker with best parameters found by the optimizer on the test dataset\n",
    "Predict Scores for the best model"
   ]
  },
  {
   "cell_type": "code",
   "execution_count": 8,
   "metadata": {},
   "outputs": [
    {
     "data": {
      "text/plain": [
       "array([[0.06708024, 0.64009005, 0.05916843, 0.41978246, 0.5680258 ],\n",
       "       [0.61247456, 0.49110284, 0.51891345, 0.3321164 , 0.4347266 ],\n",
       "       [0.55813664, 0.3096677 , 0.6031822 , 0.5784402 , 0.56980395],\n",
       "       ...,\n",
       "       [0.6519454 , 0.48743787, 0.6692742 , 0.49136415, 0.6077139 ],\n",
       "       [0.07445394, 0.6299911 , 0.02071192, 0.35829696, 0.4195008 ],\n",
       "       [0.5752736 , 0.06263375, 0.57080674, 0.28884593, 0.49449039]],\n",
       "      dtype=float32)"
      ]
     },
     "execution_count": 8,
     "metadata": {},
     "output_type": "execute_result"
    }
   ],
   "source": [
    "predicted = optimizer_model.predict_scores(X_test)\n",
    "predicted"
   ]
  }
 ],
 "metadata": {
  "anaconda-cloud": {},
  "kernelspec": {
   "display_name": "Python 3",
   "language": "python",
   "name": "python3"
  },
  "language_info": {
   "codemirror_mode": {
    "name": "ipython",
    "version": 3
   },
   "file_extension": ".py",
   "mimetype": "text/x-python",
   "name": "python",
   "nbconvert_exporter": "python",
   "pygments_lexer": "ipython3",
   "version": "3.6.3"
  }
 },
 "nbformat": 4,
 "nbformat_minor": 2
}
