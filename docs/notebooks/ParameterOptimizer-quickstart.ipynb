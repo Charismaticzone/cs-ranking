{
 "cells": [
  {
   "cell_type": "markdown",
   "metadata": {},
   "source": [
    "# Parameter Optimizer "
   ]
  },
  {
   "cell_type": "code",
   "execution_count": 1,
   "metadata": {},
   "outputs": [
    {
     "name": "stderr",
     "output_type": "stream",
     "text": [
      "Using TensorFlow backend.\n"
     ]
    }
   ],
   "source": [
    "import warnings\n",
    "warnings.filterwarnings('ignore')\n",
    "from csrank.dataset_reader import SyntheticDatasetGenerator\n",
    "from sklearn.utils import check_random_state\n",
    "from sklearn.model_selection import ShuffleSplit\n",
    "from csrank.callbacks import DebugOutput, LRScheduler\n",
    "from csrank.tuning import ParameterOptimizer\n",
    "import logging\n",
    "from csrank.util import configure_logging_numpy_keras, get_duration_seconds\n",
    "import numpy as np\n",
    "from keras import backend as K\n",
    "import os\n",
    "from skopt import load\n",
    "from csrank.objectranking import RankNet"
   ]
  },
  {
   "cell_type": "markdown",
   "metadata": {},
   "source": [
    "## Defining constants for the experiments"
   ]
  },
  {
   "cell_type": "markdown",
   "metadata": {},
   "source": [
    "Configuring the keras and tensorflow. Defining the parameters for dataset reader. Defining the splits for the optimizer."
   ]
  },
  {
   "cell_type": "code",
   "execution_count": 2,
   "metadata": {},
   "outputs": [],
   "source": [
    "logger = configure_logging_numpy_keras(log_path=os.path.join(os.getcwd(), 'logs' ,\"test_models.log\"), name='Experiment')\n",
    "n_features = 2\n",
    "n_instances = 10000\n",
    "n_objects = 5\n",
    "random_state = check_random_state(42)\n",
    "skf = ShuffleSplit(n_splits=2, test_size=0.5, random_state=random_state)\n",
    "epochs = 5\n",
    "optimizer_path = os.path.join(os.getcwd(), 'logs',\"optimizer\")\n",
    "n_iter = 4"
   ]
  },
  {
   "cell_type": "code",
   "execution_count": 3,
   "metadata": {
    "collapsed": true
   },
   "outputs": [],
   "source": [
    "import re\n",
    "def get_duration_microsecond(duration):\n",
    "    time = int(re.findall(r'\\d+', duration)[0])\n",
    "    d = duration.split(str(time))[1].upper()\n",
    "    options = {\"D\": 24 * 60 * 60 * 1e6, \"H\": 60 * 60 * 1e6, \"M\": 60 * 1e6}\n",
    "    return options[d] * time"
   ]
  },
  {
   "cell_type": "markdown",
   "metadata": {},
   "source": [
    "Defining Ranker initializing and fitting parameters."
   ]
  },
  {
   "cell_type": "code",
   "execution_count": 4,
   "metadata": {
    "collapsed": true
   },
   "outputs": [],
   "source": [
    "ranker_params = {'n_objects': n_objects,\n",
    "                 'n_features':n_features, \n",
    "                 'n_object_features':n_features}\n",
    "ranker = RankNet(**ranker_params)\n",
    "debugOutput = DebugOutput()\n",
    "lrScheduler = LRScheduler()\n",
    "\n",
    "fit_params = {'epochs': epochs,\n",
    "              'callbacks':[debugOutput, lrScheduler]}"
   ]
  },
  {
   "cell_type": "markdown",
   "metadata": {},
   "source": [
    "Defining the Parameter optimizer initializing and fitting parameters"
   ]
  },
  {
   "cell_type": "code",
   "execution_count": 5,
   "metadata": {},
   "outputs": [
    {
     "ename": "NameError",
     "evalue": "name 'get_duration_second' is not defined",
     "output_type": "error",
     "traceback": [
      "\u001b[0;31m---------------------------------------------------------------------------\u001b[0m",
      "\u001b[0;31mNameError\u001b[0m                                 Traceback (most recent call last)",
      "\u001b[0;32m<ipython-input-5-4b000d1f8d19>\u001b[0m in \u001b[0;36m<module>\u001b[0;34m()\u001b[0m\n\u001b[1;32m      1\u001b[0m optimizer_fit_params = {'n_iter': n_iter, \n\u001b[1;32m      2\u001b[0m                         \u001b[0;34m'cv_iter'\u001b[0m\u001b[0;34m:\u001b[0m \u001b[0mskf\u001b[0m\u001b[0;34m,\u001b[0m\u001b[0;34m\u001b[0m\u001b[0m\n\u001b[0;32m----> 3\u001b[0;31m                         \"total_duration\":get_duration_second(\"10h\")}\n\u001b[0m\u001b[1;32m      4\u001b[0m \u001b[0;34m\u001b[0m\u001b[0m\n\u001b[1;32m      5\u001b[0m ranker_tunables = dict(n_hidden=(2,20), n_units=(20,40), \n",
      "\u001b[0;31mNameError\u001b[0m: name 'get_duration_second' is not defined"
     ]
    }
   ],
   "source": [
    "optimizer_fit_params = {'n_iter': n_iter, \n",
    "                        'cv_iter': skf, \n",
    "                        \"total_duration\":get_duration_seconds(\"10h\")}\n",
    "\n",
    "ranker_tunables = dict(n_hidden=(2,20), n_units=(20,40), \n",
    "                        learning_rate=(1e-5, 1e-2, 'log-uniform'),\n",
    "                        reg_strength=(1e-10, 1e-1, 'log-uniform'),\n",
    "                        batch_size=(64, 1024))\n",
    "\n",
    "lrScheduler_tunables = dict(epochs_drop=(300,600), drop=(1e-2, 1e-1, 'log-uniform'))\n",
    "\n",
    "tunable_parameter_ranges = {ranker: ranker_tunables, lrScheduler: lrScheduler_tunables}\n",
    "\n",
    "optimizer_params = {'learner': ranker,\n",
    "                    'optimizer_path':optimizer_path,\n",
    "                    'tunable_parameter_ranges': tunable_parameter_ranges,\n",
    "                    'fit_params': fit_params,\n",
    "                    'random_state': random_state}"
   ]
  },
  {
   "cell_type": "markdown",
   "metadata": {},
   "source": [
    "Generating the medoid test and train dataset with defined parameters"
   ]
  },
  {
   "cell_type": "code",
   "execution_count": 8,
   "metadata": {
    "collapsed": true
   },
   "outputs": [],
   "source": [
    "medoids_params = {'dataset_type': \"medoid\",\n",
    "                  'n_test_instances': n_instances,\n",
    "                  'n_train_instances': n_instances,\n",
    "                  'n_features': n_features,\n",
    "                  'n_objects': n_objects,\n",
    "                  'random_state': random_state}\n",
    "dr = SyntheticDatasetGenerator(**medoids_params)\n",
    "X, Y, X_test, Y_test = dr.get_single_train_test_split()"
   ]
  },
  {
   "cell_type": "code",
   "execution_count": 13,
   "metadata": {},
   "outputs": [
    {
     "data": {
      "text/plain": [
       "'{\"dataset_type\": \"medoid\", \"n_test_instances\": 10000, \"n_train_instances\": 10000, \"n_features\": 2, \"n_objects\": 5, \"a_d\": {\"a\": 2, \"b\": 3, \"D\": 4}}'"
      ]
     },
     "execution_count": 13,
     "metadata": {},
     "output_type": "execute_result"
    }
   ],
   "source": [
    "import json\n",
    "#del medoids_params['random_state']\n",
    "medoids_params['a_d'] = {'a':2, 'b':3, 'D':4}\n",
    "o = json.dumps(medoids_params)\n",
    "o"
   ]
  },
  {
   "cell_type": "code",
   "execution_count": 25,
   "metadata": {},
   "outputs": [
    {
     "data": {
      "text/plain": [
       "{'debugoutput': {'delta': 200},\n",
       " 'lrScheduler': {'drop': 0.1, 'epochs_drop': 200}}"
      ]
     },
     "execution_count": 25,
     "metadata": {},
     "output_type": "execute_result"
    }
   ],
   "source": [
    "d = {\"epochs\": 5, \"callbacks\": {\"debugoutput\": {\"delta\": 200}, \"lrScheduler\": {\"epochs_drop\": 200, \"drop\": 0.1}}}\n",
    "json.loads(json.dumps(d))[\"callbacks\"]"
   ]
  },
  {
   "cell_type": "markdown",
   "metadata": {},
   "source": [
    "Fitting the optimizer"
   ]
  },
  {
   "cell_type": "code",
   "execution_count": 10,
   "metadata": {},
   "outputs": [
    {
     "ename": "TypeError",
     "evalue": "__init__() missing 1 required positional argument: 'learner'",
     "output_type": "error",
     "traceback": [
      "\u001b[0;31m---------------------------------------------------------------------------\u001b[0m",
      "\u001b[0;31mTypeError\u001b[0m                                 Traceback (most recent call last)",
      "\u001b[0;32m<ipython-input-10-9df5962576ae>\u001b[0m in \u001b[0;36m<module>\u001b[0;34m()\u001b[0m\n\u001b[0;32m----> 1\u001b[0;31m \u001b[0moptimizer_model\u001b[0m \u001b[0;34m=\u001b[0m \u001b[0mParameterOptimizer\u001b[0m\u001b[0;34m(\u001b[0m\u001b[0;34m**\u001b[0m\u001b[0moptimizer_params\u001b[0m\u001b[0;34m)\u001b[0m\u001b[0;34m\u001b[0m\u001b[0m\n\u001b[0m\u001b[1;32m      2\u001b[0m \u001b[0moptimizer_model\u001b[0m\u001b[0;34m.\u001b[0m\u001b[0mfit\u001b[0m\u001b[0;34m(\u001b[0m\u001b[0mX\u001b[0m\u001b[0;34m,\u001b[0m \u001b[0mY\u001b[0m\u001b[0;34m,\u001b[0m \u001b[0;34m**\u001b[0m\u001b[0moptimizer_fit_params\u001b[0m\u001b[0;34m)\u001b[0m\u001b[0;34m\u001b[0m\u001b[0m\n",
      "\u001b[0;31mTypeError\u001b[0m: __init__() missing 1 required positional argument: 'learner'"
     ]
    }
   ],
   "source": [
    "optimizer_model = ParameterOptimizer(**optimizer_params)\n",
    "optimizer_model.fit(X, Y, **optimizer_fit_params)"
   ]
  },
  {
   "cell_type": "markdown",
   "metadata": {},
   "source": [
    "Evaluate the Ranker with best parameters found by the optimizer on the test dataset\n",
    "Predict Scores for the best model"
   ]
  },
  {
   "cell_type": "code",
   "execution_count": 9,
   "metadata": {},
   "outputs": [
    {
     "data": {
      "text/plain": [
       "array([[0.34003744, 0.40530878, 0.31550464, 0.63641626, 0.63163394],\n",
       "       [0.40763062, 0.48692006, 0.355434  , 0.33623344, 0.4165258 ],\n",
       "       [0.49906975, 0.3731012 , 0.430352  , 0.5236497 , 0.4388348 ],\n",
       "       ...,\n",
       "       [0.50546443, 0.534902  , 0.4652732 , 0.4417104 , 0.4568018 ],\n",
       "       [0.38909936, 0.51279926, 0.34461373, 0.51644784, 0.6094    ],\n",
       "       [0.4558252 , 0.31391865, 0.62172145, 0.6636104 , 0.5680445 ]],\n",
       "      dtype=float32)"
      ]
     },
     "execution_count": 9,
     "metadata": {},
     "output_type": "execute_result"
    }
   ],
   "source": [
    "predicted = optimizer_model.predict_scores(X_test)\n",
    "predicted"
   ]
  },
  {
   "cell_type": "code",
   "execution_count": null,
   "metadata": {
    "collapsed": true
   },
   "outputs": [],
   "source": []
  }
 ],
 "metadata": {
  "anaconda-cloud": {},
  "kernelspec": {
   "display_name": "Python 3",
   "language": "python",
   "name": "python3"
  },
  "language_info": {
   "codemirror_mode": {
    "name": "ipython",
    "version": 3
   },
   "file_extension": ".py",
   "mimetype": "text/x-python",
   "name": "python",
   "nbconvert_exporter": "python",
   "pygments_lexer": "ipython3",
   "version": "3.6.3"
  }
 },
 "nbformat": 4,
 "nbformat_minor": 2
}
