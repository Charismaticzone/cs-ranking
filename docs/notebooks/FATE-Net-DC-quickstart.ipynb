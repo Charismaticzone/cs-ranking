{
 "cells": [
  {
   "cell_type": "markdown",
   "metadata": {},
   "source": [
    "# FETA-Net-DC"
   ]
  },
  {
   "cell_type": "code",
   "execution_count": 1,
   "metadata": {},
   "outputs": [
    {
     "name": "stderr",
     "output_type": "stream",
     "text": [
      "Using TensorFlow backend.\n"
     ]
    }
   ],
   "source": [
    "import warnings\n",
    "warnings.filterwarnings('ignore')\n",
    "%matplotlib inline\n",
    "import matplotlib.pyplot as plt\n",
    "import numpy as np\n",
    "from csrank import FATEDiscreteChoiceFunction"
   ]
  },
  {
   "cell_type": "markdown",
   "metadata": {},
   "source": [
    "## The medoid problem"
   ]
  },
  {
   "cell_type": "code",
   "execution_count": 2,
   "metadata": {},
   "outputs": [],
   "source": [
    "from csrank import DiscreteChoiceDatasetGenerator"
   ]
  },
  {
   "cell_type": "markdown",
   "metadata": {},
   "source": [
    "In the medoid problem the goal of the discrete choice algorithms for the medoid problem is to find the most central object for the given set.\n",
    "This problem is inspired by solving the task of finding a good representation of the given data using the most central point of the data points\n",
    "\n",
    "We will generate a random dataset where each instance contains 5 objects and 2 features for easy plotting."
   ]
  },
  {
   "cell_type": "code",
   "execution_count": 3,
   "metadata": {},
   "outputs": [],
   "source": [
    "seed = 123\n",
    "n_train = 10000\n",
    "n_test = 10000\n",
    "n_features = 2\n",
    "n_objects = 5\n",
    "gen = DiscreteChoiceDatasetGenerator(dataset_type='medoid', random_state=seed,\n",
    "                                n_train_instances=n_train,\n",
    "                                n_test_instances=n_test,\n",
    "                                n_objects=n_objects,\n",
    "                                n_features=n_features)"
   ]
  },
  {
   "cell_type": "code",
   "execution_count": 4,
   "metadata": {},
   "outputs": [],
   "source": [
    "X_train, Y_train, X_test, Y_test = gen.get_single_train_test_split()"
   ]
  },
  {
   "cell_type": "markdown",
   "metadata": {},
   "source": [
    "Let us plot a random instance. The medoid is marked as M."
   ]
  },
  {
   "cell_type": "code",
   "execution_count": 7,
   "metadata": {},
   "outputs": [
    {
     "data": {
      "image/png": "[encoded data removed]",
      "text/plain": [
       "<Figure size 360x360 with 1 Axes>"
      ]
     },
     "metadata": {},
     "output_type": "display_data"
    }
   ],
   "source": [
    "def get_name(d):\n",
    "    if d ==0:\n",
    "        return \"\"\n",
    "    else:\n",
    "        return \"M\"\n",
    "fig, ax = plt.subplots(figsize=(5,5))\n",
    "inst = np.random.choice(n_train)\n",
    "ax.scatter(X_train[inst][:, 0], X_train[inst][:, 1])\n",
    "for i in range(n_objects):\n",
    "    ax.text(X_train[inst, i, 0]+0.01,\n",
    "            X_train[inst, i, 1]+0.01,\n",
    "            s=get_name(int(Y_train[inst, i])))"
   ]
  },
  {
   "cell_type": "markdown",
   "metadata": {},
   "source": [
    "## The FATE network\n",
    "The first-aggregate-then-evaluate approach learns an embedding of each object and then aggregates that into a _context_:\n",
    "\\begin{equation}\n",
    "\t\\mu_{C(\\vec{x})} = \\frac{1}{|C(\\vec{x})|} \\sum_{\\vec{y} \\in C(\\vec{x})} \\phi(\\vec{y})\n",
    "\\end{equation}\n",
    "and then scores each object $\\vec{x}$ using a generalized utility function $U (\\vec{x}, \\mu_{C(\\vec{x})})$"
   ]
  },
  {
   "cell_type": "code",
   "execution_count": 8,
   "metadata": {},
   "outputs": [],
   "source": [
    "from keras.optimizers import SGD\n",
    "from csrank import FATEObjectRanker\n",
    "from csrank.losses import smooth_rank_loss\n",
    "fate = FATEObjectRanker(\n",
    "    n_object_features=n_features,\n",
    "    loss_function=smooth_rank_loss,\n",
    "    optimizer=SGD(lr=1e-4, nesterov=True, momentum=0.9))"
   ]
  },
  {
   "cell_type": "markdown",
   "metadata": {},
   "source": [
    "We will run the training for only 10 epochs to get an idea of the convergence:"
   ]
  },
  {
   "cell_type": "code",
   "execution_count": 9,
   "metadata": {},
   "outputs": [
    {
     "name": "stdout",
     "output_type": "stream",
     "text": [
      "Train on 9000 samples, validate on 1000 samples\n",
      "Epoch 1/10\n",
      "9000/9000 [==============================] - 6s 662us/step - loss: 8.9653 - zero_one_rank_loss_for_scores_ties: 1.9903 - val_loss: 8.8474 - val_zero_one_rank_loss_for_scores_ties: 1.6490\n",
      "Epoch 2/10\n",
      "9000/9000 [==============================] - 2s 207us/step - loss: 8.7833 - zero_one_rank_loss_for_scores_ties: 1.5730 - val_loss: 8.7027 - val_zero_one_rank_loss_for_scores_ties: 1.4530\n",
      "Epoch 3/10\n",
      "9000/9000 [==============================] - 2s 229us/step - loss: 8.6593 - zero_one_rank_loss_for_scores_ties: 1.4180 - val_loss: 8.6160 - val_zero_one_rank_loss_for_scores_ties: 1.3740\n",
      "Epoch 4/10\n",
      "9000/9000 [==============================] - 2s 234us/step - loss: 8.5864 - zero_one_rank_loss_for_scores_ties: 1.3449 - val_loss: 8.5917 - val_zero_one_rank_loss_for_scores_ties: 1.3330\n",
      "Epoch 5/10\n",
      "9000/9000 [==============================] - 2s 232us/step - loss: 8.5495 - zero_one_rank_loss_for_scores_ties: 1.3034 - val_loss: 8.5404 - val_zero_one_rank_loss_for_scores_ties: 1.3040\n",
      "Epoch 6/10\n",
      "9000/9000 [==============================] - 1s 128us/step - loss: 8.5233 - zero_one_rank_loss_for_scores_ties: 1.2913 - val_loss: 8.5177 - val_zero_one_rank_loss_for_scores_ties: 1.2900\n",
      "Epoch 7/10\n",
      "9000/9000 [==============================] - 1s 122us/step - loss: 8.5025 - zero_one_rank_loss_for_scores_ties: 1.2820 - val_loss: 8.5085 - val_zero_one_rank_loss_for_scores_ties: 1.2800\n",
      "Epoch 8/10\n",
      "9000/9000 [==============================] - 1s 120us/step - loss: 8.4879 - zero_one_rank_loss_for_scores_ties: 1.2720 - val_loss: 8.4876 - val_zero_one_rank_loss_for_scores_ties: 1.2830\n",
      "Epoch 9/10\n",
      "9000/9000 [==============================] - 1s 132us/step - loss: 8.4748 - zero_one_rank_loss_for_scores_ties: 1.2680 - val_loss: 8.4780 - val_zero_one_rank_loss_for_scores_ties: 1.2900\n",
      "Epoch 10/10\n",
      "9000/9000 [==============================] - 1s 158us/step - loss: 8.4622 - zero_one_rank_loss_for_scores_ties: 1.2701 - val_loss: 8.4561 - val_zero_one_rank_loss_for_scores_ties: 1.2620\n"
     ]
    }
   ],
   "source": [
    "fate.fit(X_train, Y_train, verbose=True, epochs=10)"
   ]
  },
  {
   "cell_type": "code",
   "execution_count": 8,
   "metadata": {
    "collapsed": true
   },
   "outputs": [],
   "source": [
    "scores = fate.predict_scores(X_test)"
   ]
  },
  {
   "cell_type": "code",
   "execution_count": 9,
   "metadata": {},
   "outputs": [
    {
     "data": {
      "text/plain": [
       "0.20010117"
      ]
     },
     "execution_count": 9,
     "metadata": {},
     "output_type": "execute_result"
    }
   ],
   "source": [
    "from csrank.metrics_np import categorical_accuracy_np\n",
    "from keras import backend as K\n",
    "categorical_accuracy_np(Y_test, scores)"
   ]
  },
  {
   "cell_type": "markdown",
   "metadata": {},
   "source": [
    "Not converged yet, but let us visualize the scores it assigns to test instances:"
   ]
  },
  {
   "cell_type": "code",
   "execution_count": 10,
   "metadata": {},
   "outputs": [
    {
     "data": {
      "image/png": "[encoded data removed]",
      "text/plain": [
       "<matplotlib.figure.Figure at 0x7f4c47f359e8>"
      ]
     },
     "metadata": {},
     "output_type": "display_data"
    }
   ],
   "source": [
    "fig, ax = plt.subplots(figsize=(5,5))\n",
    "inst = np.random.choice(n_test)\n",
    "ax.scatter(X_test[inst][:, 0], X_test[inst][:, 1])\n",
    "for i in range(n_objects):\n",
    "    ax.text(X_test[inst, i, 0]+0.01,\n",
    "            X_test[inst, i, 1]+0.01,\n",
    "            s=int(Y_test[inst, i]))\n",
    "    ax.text(X_test[inst, i, 0]+0.01,\n",
    "            X_test[inst, i, 1]-0.025,\n",
    "            s='{:.1f}'.format(scores[inst][i]),\n",
    "            color='b')"
   ]
  }
 ],
 "metadata": {
  "kernelspec": {
   "display_name": "Python 3",
   "language": "python",
   "name": "python3"
  },
  "language_info": {
   "codemirror_mode": {
    "name": "ipython",
    "version": 3
   },
   "file_extension": ".py",
   "mimetype": "text/x-python",
   "name": "python",
   "nbconvert_exporter": "python",
   "pygments_lexer": "ipython3",
   "version": "3.6.4"
  }
 },
 "nbformat": 4,
 "nbformat_minor": 2
}
