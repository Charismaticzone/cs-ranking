{
 "cells": [
  {
   "cell_type": "markdown",
   "metadata": {},
   "source": [
    "# FATE-Ranking"
   ]
  },
  {
   "cell_type": "code",
   "execution_count": 1,
   "metadata": {},
   "outputs": [
    {
     "name": "stderr",
     "output_type": "stream",
     "text": [
      "Using TensorFlow backend.\n"
     ]
    }
   ],
   "source": [
    "import warnings\n",
    "warnings.filterwarnings('ignore')\n",
    "%matplotlib inline\n",
    "import matplotlib.pyplot as plt\n",
    "import numpy as np\n",
    "from csrank import FATEObjectRanker"
   ]
  },
  {
   "cell_type": "markdown",
   "metadata": {},
   "source": [
    "## The medoid problem"
   ]
  },
  {
   "cell_type": "code",
   "execution_count": 2,
   "metadata": {},
   "outputs": [],
   "source": [
    "from csrank import ObjectRankingDatasetGenerator"
   ]
  },
  {
   "cell_type": "markdown",
   "metadata": {},
   "source": [
    "In the medoid problem the goal of the learner is to sort a set of randomly generated points based on their distance to the _medoid_.\n",
    "This problem is inspired by the setting of ranking similarity learning, where the goal is to learn a similarity function from triplets of objects.\n",
    "\n",
    "We will generate a random dataset where each instance contains 5 objects and 2 features for easy plotting."
   ]
  },
  {
   "cell_type": "code",
   "execution_count": 3,
   "metadata": {},
   "outputs": [],
   "source": [
    "seed = 123\n",
    "n_train = 10000\n",
    "n_test = 10000\n",
    "n_features = 2\n",
    "n_objects = 5\n",
    "gen = ObjectRankingDatasetGenerator(dataset_type='medoid', random_state=seed,\n",
    "                                n_train_instances=n_train,\n",
    "                                n_test_instances=n_test,\n",
    "                                n_objects=n_objects,\n",
    "                                n_features=n_features)"
   ]
  },
  {
   "cell_type": "code",
   "execution_count": 4,
   "metadata": {
    "collapsed": true
   },
   "outputs": [],
   "source": [
    "X_train, Y_train, X_test, Y_test = gen.get_single_train_test_split()"
   ]
  },
  {
   "cell_type": "markdown",
   "metadata": {},
   "source": [
    "Let us plot a random instance. The points are ranked by distance to the medoid. The medoid itself gets always gets the index 0."
   ]
  },
  {
   "cell_type": "code",
   "execution_count": 5,
   "metadata": {},
   "outputs": [
    {
     "data": {
      "image/png": "[encoded data removed]",
      "text/plain": [
       "<matplotlib.figure.Figure at 0x7f4c7a840908>"
      ]
     },
     "metadata": {},
     "output_type": "display_data"
    }
   ],
   "source": [
    "fig, ax = plt.subplots(figsize=(5,5))\n",
    "inst = np.random.choice(n_train)\n",
    "ax.scatter(X_train[inst][:, 0], X_train[inst][:, 1])\n",
    "for i in range(n_objects):\n",
    "    ax.text(X_train[inst, i, 0]+0.01,\n",
    "            X_train[inst, i, 1]+0.01,\n",
    "            s=int(Y_train[inst, i]))"
   ]
  },
  {
   "cell_type": "markdown",
   "metadata": {},
   "source": [
    "## The FATE network\n",
    "The first-aggregate-then-evaluate approach learns an embedding of each object and then aggregates that into a _context_:\n",
    "\\begin{equation}\n",
    "\t\\mu_{C(\\vec{x})} = \\frac{1}{|C(\\vec{x})|} \\sum_{\\vec{y} \\in C(\\vec{x})} \\phi(\\vec{y})\n",
    "\\end{equation}\n",
    "and then scores each object $\\vec{x}$ using a generalized utility function $U (\\vec{x}, \\mu_{C(\\vec{x})})$"
   ]
  },
  {
   "cell_type": "code",
   "execution_count": 6,
   "metadata": {
    "collapsed": true
   },
   "outputs": [],
   "source": [
    "from keras.optimizers import SGD\n",
    "from csrank import FATEObjectRanker\n",
    "from csrank.losses import smooth_rank_loss\n",
    "fate = FATEObjectRanker(\n",
    "    n_object_features=n_features,\n",
    "    loss_function=smooth_rank_loss,\n",
    "    optimizer=SGD(lr=1e-4, nesterov=True, momentum=0.9))"
   ]
  },
  {
   "cell_type": "markdown",
   "metadata": {},
   "source": [
    "We will run the training for only 10 epochs to get an idea of the convergence:"
   ]
  },
  {
   "cell_type": "code",
   "execution_count": 7,
   "metadata": {},
   "outputs": [
    {
     "name": "stdout",
     "output_type": "stream",
     "text": [
      "Train on 9000 samples, validate on 1000 samples\n",
      "Epoch 1/10\n",
      "9000/9000 [==============================] - 4s 437us/step - loss: 9.2558 - zero_one_rank_loss_for_scores_ties: 0.3832 - zero_one_rank_loss_for_scores: 0.3832 - val_loss: 9.2067 - val_zero_one_rank_loss_for_scores_ties: 0.3297 - val_zero_one_rank_loss_for_scores: 0.3297\n",
      "Epoch 2/10\n",
      "9000/9000 [==============================] - 1s 130us/step - loss: 9.1827 - zero_one_rank_loss_for_scores_ties: 0.3197 - zero_one_rank_loss_for_scores: 0.3197 - val_loss: 9.1551 - val_zero_one_rank_loss_for_scores_ties: 0.2956 - val_zero_one_rank_loss_for_scores: 0.2956\n",
      "Epoch 3/10\n",
      "9000/9000 [==============================] - 1s 130us/step - loss: 9.1315 - zero_one_rank_loss_for_scores_ties: 0.2858 - zero_one_rank_loss_for_scores: 0.2858 - val_loss: 9.1146 - val_zero_one_rank_loss_for_scores_ties: 0.2725 - val_zero_one_rank_loss_for_scores: 0.2725\n",
      "Epoch 4/10\n",
      "9000/9000 [==============================] - 1s 124us/step - loss: 9.0889 - zero_one_rank_loss_for_scores_ties: 0.2680 - zero_one_rank_loss_for_scores: 0.2680 - val_loss: 9.0603 - val_zero_one_rank_loss_for_scores_ties: 0.2525 - val_zero_one_rank_loss_for_scores: 0.2525\n",
      "Epoch 5/10\n",
      "9000/9000 [==============================] - 1s 125us/step - loss: 9.0419 - zero_one_rank_loss_for_scores_ties: 0.2428 - zero_one_rank_loss_for_scores: 0.2428 - val_loss: 9.0687 - val_zero_one_rank_loss_for_scores_ties: 0.2478 - val_zero_one_rank_loss_for_scores: 0.2478\n",
      "Epoch 6/10\n",
      "9000/9000 [==============================] - 1s 137us/step - loss: 8.9896 - zero_one_rank_loss_for_scores_ties: 0.2142 - zero_one_rank_loss_for_scores: 0.2142 - val_loss: 8.9398 - val_zero_one_rank_loss_for_scores_ties: 0.1841 - val_zero_one_rank_loss_for_scores: 0.1841\n",
      "Epoch 7/10\n",
      "9000/9000 [==============================] - 1s 125us/step - loss: 8.9301 - zero_one_rank_loss_for_scores_ties: 0.1891 - zero_one_rank_loss_for_scores: 0.1891 - val_loss: 8.9755 - val_zero_one_rank_loss_for_scores_ties: 0.1938 - val_zero_one_rank_loss_for_scores: 0.1938\n",
      "Epoch 8/10\n",
      "9000/9000 [==============================] - 1s 147us/step - loss: 8.9230 - zero_one_rank_loss_for_scores_ties: 0.1936 - zero_one_rank_loss_for_scores: 0.1936 - val_loss: 8.8852 - val_zero_one_rank_loss_for_scores_ties: 0.1682 - val_zero_one_rank_loss_for_scores: 0.1682\n",
      "Epoch 9/10\n",
      "9000/9000 [==============================] - 1s 124us/step - loss: 8.8783 - zero_one_rank_loss_for_scores_ties: 0.1838 - zero_one_rank_loss_for_scores: 0.1838 - val_loss: 8.8973 - val_zero_one_rank_loss_for_scores_ties: 0.1922 - val_zero_one_rank_loss_for_scores: 0.1922\n",
      "Epoch 10/10\n",
      "9000/9000 [==============================] - 1s 113us/step - loss: 8.8606 - zero_one_rank_loss_for_scores_ties: 0.1815 - zero_one_rank_loss_for_scores: 0.1815 - val_loss: 8.8970 - val_zero_one_rank_loss_for_scores_ties: 0.1926 - val_zero_one_rank_loss_for_scores: 0.1926\n"
     ]
    }
   ],
   "source": [
    "fate.fit(X_train, Y_train, verbose=True, epochs=10)"
   ]
  },
  {
   "cell_type": "code",
   "execution_count": 8,
   "metadata": {
    "collapsed": true
   },
   "outputs": [],
   "source": [
    "scores = fate.predict_scores(X_test)"
   ]
  },
  {
   "cell_type": "code",
   "execution_count": 9,
   "metadata": {},
   "outputs": [
    {
     "data": {
      "text/plain": [
       "0.20010117"
      ]
     },
     "execution_count": 9,
     "metadata": {},
     "output_type": "execute_result"
    }
   ],
   "source": [
    "from csrank.metrics import zero_one_rank_loss_for_scores\n",
    "from keras import backend as K\n",
    "K.eval(zero_one_rank_loss_for_scores(Y_test, scores))"
   ]
  },
  {
   "cell_type": "markdown",
   "metadata": {},
   "source": [
    "Not converged yet, but let us visualize the scores it assigns to test instances:"
   ]
  },
  {
   "cell_type": "code",
   "execution_count": 10,
   "metadata": {},
   "outputs": [
    {
     "data": {
      "image/png": "[encoded data removed]",
      "text/plain": [
       "<matplotlib.figure.Figure at 0x7f4c47f359e8>"
      ]
     },
     "metadata": {},
     "output_type": "display_data"
    }
   ],
   "source": [
    "fig, ax = plt.subplots(figsize=(5,5))\n",
    "inst = np.random.choice(n_test)\n",
    "ax.scatter(X_test[inst][:, 0], X_test[inst][:, 1])\n",
    "for i in range(n_objects):\n",
    "    ax.text(X_test[inst, i, 0]+0.01,\n",
    "            X_test[inst, i, 1]+0.01,\n",
    "            s=int(Y_test[inst, i]))\n",
    "    ax.text(X_test[inst, i, 0]+0.01,\n",
    "            X_test[inst, i, 1]-0.025,\n",
    "            s='{:.1f}'.format(scores[inst][i]),\n",
    "            color='b')"
   ]
  }
 ],
 "metadata": {
  "kernelspec": {
   "display_name": "Python 3",
   "language": "python",
   "name": "python3"
  },
  "language_info": {
   "codemirror_mode": {
    "name": "ipython",
    "version": 3
   },
   "file_extension": ".py",
   "mimetype": "text/x-python",
   "name": "python",
   "nbconvert_exporter": "python",
   "pygments_lexer": "ipython3",
   "version": "3.6.3"
  }
 },
 "nbformat": 4,
 "nbformat_minor": 2
}
